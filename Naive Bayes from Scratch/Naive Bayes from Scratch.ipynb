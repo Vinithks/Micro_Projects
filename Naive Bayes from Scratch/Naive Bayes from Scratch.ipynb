{
 "cells": [
  {
   "cell_type": "markdown",
   "id": "972a8e9f",
   "metadata": {},
   "source": [
    "# Classification with Naive Bayes"
   ]
  },
  {
   "cell_type": "markdown",
   "id": "24c1508e",
   "metadata": {},
   "source": [
    "### Importing Required Libraries"
   ]
  },
  {
   "cell_type": "code",
   "execution_count": 47,
   "id": "021d5fb4",
   "metadata": {},
   "outputs": [],
   "source": [
    "import numpy as np \n",
    "import pandas as pd \n",
    "import seaborn as sns\n",
    "import warnings\n",
    "from sklearn.model_selection import train_test_split\n",
    "warnings.filterwarnings('ignore')"
   ]
  },
  {
   "cell_type": "markdown",
   "id": "fb70efd2",
   "metadata": {},
   "source": [
    "### Loadig the Iris Dataset"
   ]
  },
  {
   "cell_type": "code",
   "execution_count": 48,
   "id": "3ffc33d4",
   "metadata": {},
   "outputs": [
    {
     "data": {
      "text/html": [
       "<div>\n",
       "<style scoped>\n",
       "    .dataframe tbody tr th:only-of-type {\n",
       "        vertical-align: middle;\n",
       "    }\n",
       "\n",
       "    .dataframe tbody tr th {\n",
       "        vertical-align: top;\n",
       "    }\n",
       "\n",
       "    .dataframe thead th {\n",
       "        text-align: right;\n",
       "    }\n",
       "</style>\n",
       "<table border=\"1\" class=\"dataframe\">\n",
       "  <thead>\n",
       "    <tr style=\"text-align: right;\">\n",
       "      <th></th>\n",
       "      <th>sepal_length</th>\n",
       "      <th>sepal_width</th>\n",
       "      <th>petal_length</th>\n",
       "      <th>petal_width</th>\n",
       "      <th>target</th>\n",
       "    </tr>\n",
       "  </thead>\n",
       "  <tbody>\n",
       "    <tr>\n",
       "      <th>0</th>\n",
       "      <td>5.1</td>\n",
       "      <td>3.5</td>\n",
       "      <td>1.4</td>\n",
       "      <td>0.2</td>\n",
       "      <td>setosa</td>\n",
       "    </tr>\n",
       "    <tr>\n",
       "      <th>1</th>\n",
       "      <td>4.9</td>\n",
       "      <td>3.0</td>\n",
       "      <td>1.4</td>\n",
       "      <td>0.2</td>\n",
       "      <td>setosa</td>\n",
       "    </tr>\n",
       "    <tr>\n",
       "      <th>2</th>\n",
       "      <td>4.7</td>\n",
       "      <td>3.2</td>\n",
       "      <td>1.3</td>\n",
       "      <td>0.2</td>\n",
       "      <td>setosa</td>\n",
       "    </tr>\n",
       "    <tr>\n",
       "      <th>3</th>\n",
       "      <td>4.6</td>\n",
       "      <td>3.1</td>\n",
       "      <td>1.5</td>\n",
       "      <td>0.2</td>\n",
       "      <td>setosa</td>\n",
       "    </tr>\n",
       "    <tr>\n",
       "      <th>4</th>\n",
       "      <td>5.0</td>\n",
       "      <td>3.6</td>\n",
       "      <td>1.4</td>\n",
       "      <td>0.2</td>\n",
       "      <td>setosa</td>\n",
       "    </tr>\n",
       "  </tbody>\n",
       "</table>\n",
       "</div>"
      ],
      "text/plain": [
       "   sepal_length  sepal_width  petal_length  petal_width  target\n",
       "0           5.1          3.5           1.4          0.2  setosa\n",
       "1           4.9          3.0           1.4          0.2  setosa\n",
       "2           4.7          3.2           1.3          0.2  setosa\n",
       "3           4.6          3.1           1.5          0.2  setosa\n",
       "4           5.0          3.6           1.4          0.2  setosa"
      ]
     },
     "execution_count": 48,
     "metadata": {},
     "output_type": "execute_result"
    }
   ],
   "source": [
    "df = sns.load_dataset('iris')\n",
    "df.rename(columns={'species':'target'},inplace = True)\n",
    "df.head()"
   ]
  },
  {
   "cell_type": "code",
   "execution_count": 49,
   "id": "12845a05",
   "metadata": {},
   "outputs": [],
   "source": [
    "# Splitting it into 2\n",
    "X = df.drop(['target'], axis='columns')\n",
    "y = df.target"
   ]
  },
  {
   "cell_type": "code",
   "execution_count": 50,
   "id": "2ea2d1d3",
   "metadata": {},
   "outputs": [],
   "source": [
    "# Equally Splitting Dataset 40 samples for training & 10 for testing of each category using train_test_split\n",
    "X_train, X_test, y_train, y_test = train_test_split(X, y, test_size=0.2, stratify = y)"
   ]
  },
  {
   "cell_type": "code",
   "execution_count": 51,
   "id": "ae5fd39d",
   "metadata": {},
   "outputs": [
    {
     "data": {
      "text/plain": [
       "virginica     40\n",
       "versicolor    40\n",
       "setosa        40\n",
       "Name: target, dtype: int64"
      ]
     },
     "execution_count": 51,
     "metadata": {},
     "output_type": "execute_result"
    }
   ],
   "source": [
    "# 40 samples of training\n",
    "y_train.value_counts()"
   ]
  },
  {
   "cell_type": "code",
   "execution_count": 52,
   "id": "1f30f827",
   "metadata": {},
   "outputs": [
    {
     "data": {
      "text/plain": [
       "setosa        10\n",
       "versicolor    10\n",
       "virginica     10\n",
       "Name: target, dtype: int64"
      ]
     },
     "execution_count": 52,
     "metadata": {},
     "output_type": "execute_result"
    }
   ],
   "source": [
    "# 10 samples of testing\n",
    "y_test.value_counts()"
   ]
  },
  {
   "cell_type": "code",
   "execution_count": 53,
   "id": "e31b43df",
   "metadata": {},
   "outputs": [],
   "source": [
    "# Concatenating training dataset into one df\n",
    "df_train = pd.concat([X_train, y_train], axis=1)"
   ]
  },
  {
   "cell_type": "code",
   "execution_count": 54,
   "id": "2a88f967",
   "metadata": {},
   "outputs": [
    {
     "data": {
      "text/plain": [
       "virginica     40\n",
       "versicolor    40\n",
       "setosa        40\n",
       "Name: target, dtype: int64"
      ]
     },
     "execution_count": 54,
     "metadata": {},
     "output_type": "execute_result"
    }
   ],
   "source": [
    "df_train.target.value_counts()"
   ]
  },
  {
   "cell_type": "code",
   "execution_count": 55,
   "id": "81351457",
   "metadata": {},
   "outputs": [],
   "source": [
    "# Concatenating testing dataset into one df\n",
    "df_test = pd.concat([X_test, y_test], axis=1)"
   ]
  },
  {
   "cell_type": "code",
   "execution_count": 56,
   "id": "0b432bb6",
   "metadata": {},
   "outputs": [
    {
     "data": {
      "text/plain": [
       "setosa        10\n",
       "versicolor    10\n",
       "virginica     10\n",
       "Name: target, dtype: int64"
      ]
     },
     "execution_count": 56,
     "metadata": {},
     "output_type": "execute_result"
    }
   ],
   "source": [
    "df_test.target.value_counts()"
   ]
  },
  {
   "cell_type": "markdown",
   "id": "997cee2a",
   "metadata": {},
   "source": [
    "### Calculation of Prior Probability"
   ]
  },
  {
   "cell_type": "code",
   "execution_count": 57,
   "id": "078ef7f1",
   "metadata": {},
   "outputs": [],
   "source": [
    "def prior_probability(df):\n",
    "    prior_probabilities = df.groupby(by='target').apply(lambda x:len(x)/len(df)) # prior probability based on category\n",
    "    return (prior_probabilities).values"
   ]
  },
  {
   "cell_type": "code",
   "execution_count": 58,
   "id": "cb014e82",
   "metadata": {},
   "outputs": [
    {
     "data": {
      "text/plain": [
       "target\n",
       "setosa        0.333333\n",
       "versicolor    0.333333\n",
       "virginica     0.333333\n",
       "dtype: float64"
      ]
     },
     "execution_count": 58,
     "metadata": {},
     "output_type": "execute_result"
    }
   ],
   "source": [
    "# prior probability values\n",
    "prior_probabilities = df.groupby(by='target').apply(lambda x:len(x)/len(df))\n",
    "prior_probabilities"
   ]
  },
  {
   "cell_type": "markdown",
   "id": "4a3e997b",
   "metadata": {},
   "source": [
    "### Mean & Variance"
   ]
  },
  {
   "cell_type": "code",
   "execution_count": 59,
   "id": "13d5ddd1",
   "metadata": {},
   "outputs": [],
   "source": [
    "def mean_variance(df):\n",
    "    mean = df.groupby(by='target').apply(lambda x: x.mean(axis=0))\n",
    "    variance = df.groupby(by='target').apply(lambda x: x.var(axis=0))\n",
    "    return (mean.values, variance.values)"
   ]
  },
  {
   "cell_type": "code",
   "execution_count": 60,
   "id": "fcd296b6",
   "metadata": {},
   "outputs": [
    {
     "name": "stdout",
     "output_type": "stream",
     "text": [
      "Mean Values by Category\n",
      "\n",
      "            sepal_length  sepal_width  petal_length  petal_width\n",
      "target                                                          \n",
      "setosa             5.006        3.428         1.462        0.246\n",
      "versicolor         5.936        2.770         4.260        1.326\n",
      "virginica          6.588        2.974         5.552        2.026\n",
      "\n",
      "Variance by Category\n",
      "\n",
      "            sepal_length  sepal_width  petal_length  petal_width\n",
      "target                                                          \n",
      "setosa          0.124249     0.143690      0.030159     0.011106\n",
      "versicolor      0.266433     0.098469      0.220816     0.039106\n",
      "virginica       0.404343     0.104004      0.304588     0.075433\n",
      "\n",
      "Standard Deviation by Category\n",
      "\n",
      "            sepal_length  sepal_width  petal_length  petal_width\n",
      "target                                                          \n",
      "setosa          0.352490     0.379064      0.173664     0.105386\n",
      "versicolor      0.516171     0.313798      0.469911     0.197753\n",
      "virginica       0.635880     0.322497      0.551895     0.274650\n"
     ]
    }
   ],
   "source": [
    "# Mean, Standard Deviation & Variance values based on category\n",
    "mean = df.groupby(by='target').apply(lambda x: x.mean(axis=0))\n",
    "variance = df.groupby(by='target').apply(lambda x: x.var(axis=0))\n",
    "\n",
    "print(\"Mean Values by Category\\n\")\n",
    "print(mean)\n",
    "\n",
    "print(\"\\nVariance by Category\\n\")\n",
    "print(variance)                         # variance = (std.dev)**2\n",
    "\n",
    "std_dev = np.sqrt(variance)\n",
    "print(\"\\nStandard Deviation by Category\\n\")\n",
    "print(std_dev)"
   ]
  },
  {
   "cell_type": "markdown",
   "id": "34697cbd",
   "metadata": {},
   "source": [
    "### Gaussian Probability Density"
   ]
  },
  {
   "cell_type": "code",
   "execution_count": 61,
   "id": "5df3422b",
   "metadata": {},
   "outputs": [],
   "source": [
    "def probability_density(mean, variance, x):\n",
    "    probability_density = (1/np.sqrt(2*np.pi*variance)) * np.exp((-(x - mean)**2)/(2*variance))  # using Gaussian Probability Density Formula\n",
    "    return probability_density"
   ]
  },
  {
   "cell_type": "code",
   "execution_count": 62,
   "id": "7126d576",
   "metadata": {
    "scrolled": true
   },
   "outputs": [
    {
     "data": {
      "text/plain": [
       "0.28209479177387814"
      ]
     },
     "execution_count": 62,
     "metadata": {},
     "output_type": "execute_result"
    }
   ],
   "source": [
    "GPD = probability_density(1, 2, 1)\n",
    "GPD"
   ]
  },
  {
   "cell_type": "code",
   "execution_count": 63,
   "id": "54e9cd0c",
   "metadata": {},
   "outputs": [
    {
     "data": {
      "text/plain": [
       "<seaborn.axisgrid.FacetGrid at 0x1451f5eb0>"
      ]
     },
     "execution_count": 63,
     "metadata": {},
     "output_type": "execute_result"
    },
    {
     "data": {
      "image/png": "[encoded data removed]",
      "text/plain": [
       "<Figure size 444.75x360 with 1 Axes>"
      ]
     },
     "metadata": {
      "needs_background": "light"
     },
     "output_type": "display_data"
    }
   ],
   "source": [
    "sns.displot(df, x=\"sepal_length\", hue=\"target\", kind=\"kde\", fill=True)"
   ]
  },
  {
   "cell_type": "markdown",
   "id": "87b4ee2e",
   "metadata": {},
   "source": [
    "### Fitting Data to get Posterior Probability Parameters"
   ]
  },
  {
   "cell_type": "code",
   "execution_count": 64,
   "id": "e1ef2caf",
   "metadata": {},
   "outputs": [],
   "source": [
    "def parameters(df):\n",
    "    \n",
    "    n_cols = len(df.columns)-1              # excluding the target column\n",
    "    unique_labels = df['target'].unique()   \n",
    "    n_unique_labels = len(unique_labels)\n",
    "    \n",
    "    mean, variance = mean_variance(df)\n",
    "    prior_probabilities = prior_probability(df) \n",
    "    \n",
    "    return {\n",
    "        'n_cols': n_cols,\n",
    "        'unique_labels': unique_labels,\n",
    "        'n_unique_labels': n_unique_labels,\n",
    "        'mean': mean,\n",
    "        'variance': variance,\n",
    "        'prior_probabilities': prior_probabilities\n",
    "    }"
   ]
  },
  {
   "cell_type": "code",
   "execution_count": 65,
   "id": "12e96cc2",
   "metadata": {},
   "outputs": [],
   "source": [
    "post_para = parameters(df)"
   ]
  },
  {
   "cell_type": "code",
   "execution_count": 66,
   "id": "cc7e99f0",
   "metadata": {
    "scrolled": true
   },
   "outputs": [
    {
     "data": {
      "text/plain": [
       "{'n_cols': 4,\n",
       " 'unique_labels': array(['setosa', 'versicolor', 'virginica'], dtype=object),\n",
       " 'n_unique_labels': 3,\n",
       " 'mean': array([[5.006, 3.428, 1.462, 0.246],\n",
       "        [5.936, 2.77 , 4.26 , 1.326],\n",
       "        [6.588, 2.974, 5.552, 2.026]]),\n",
       " 'variance': array([[0.12424898, 0.1436898 , 0.03015918, 0.01110612],\n",
       "        [0.26643265, 0.09846939, 0.22081633, 0.03910612],\n",
       "        [0.40434286, 0.10400408, 0.30458776, 0.07543265]]),\n",
       " 'prior_probabilities': array([0.33333333, 0.33333333, 0.33333333])}"
      ]
     },
     "execution_count": 66,
     "metadata": {},
     "output_type": "execute_result"
    }
   ],
   "source": [
    "post_para"
   ]
  },
  {
   "cell_type": "markdown",
   "id": "808905dd",
   "metadata": {},
   "source": [
    "### Posterior Probabilities"
   ]
  },
  {
   "cell_type": "code",
   "execution_count": 67,
   "id": "12468c81",
   "metadata": {},
   "outputs": [],
   "source": [
    "def posterior_probabilities(df_row, mean, variance, n_unique_labels, n_cols):\n",
    "    \n",
    "    posterior_probabilities = []\n",
    "    \n",
    "    for i in range(n_unique_labels):     #Calculate probabilities of each category\n",
    "        posterior = 0\n",
    "        \n",
    "        # For each Feautre\n",
    "        for j in range (n_cols):\n",
    "            posterior += (probability_density(mean[i][j], variance[i][j], df_row[j]))\n",
    "        posterior_probabilities.append(posterior)\n",
    "        \n",
    "    return posterior_probabilities"
   ]
  },
  {
   "cell_type": "code",
   "execution_count": 68,
   "id": "3406231c",
   "metadata": {},
   "outputs": [
    {
     "data": {
      "text/plain": [
       "[0.5564131273241626, 4.002835780210788, 2.0502916288113004]"
      ]
     },
     "execution_count": 68,
     "metadata": {},
     "output_type": "execute_result"
    }
   ],
   "source": [
    "posterior = posterior_probabilities(df_test.iloc[1,:], post_para['mean'], post_para['variance'], post_para['n_unique_labels'], post_para['n_cols'])\n",
    "posterior"
   ]
  },
  {
   "cell_type": "code",
   "execution_count": 69,
   "id": "b0e81561",
   "metadata": {},
   "outputs": [
    {
     "data": {
      "text/html": [
       "<div>\n",
       "<style scoped>\n",
       "    .dataframe tbody tr th:only-of-type {\n",
       "        vertical-align: middle;\n",
       "    }\n",
       "\n",
       "    .dataframe tbody tr th {\n",
       "        vertical-align: top;\n",
       "    }\n",
       "\n",
       "    .dataframe thead th {\n",
       "        text-align: right;\n",
       "    }\n",
       "</style>\n",
       "<table border=\"1\" class=\"dataframe\">\n",
       "  <thead>\n",
       "    <tr style=\"text-align: right;\">\n",
       "      <th></th>\n",
       "      <th>sepal_length</th>\n",
       "      <th>sepal_width</th>\n",
       "      <th>petal_length</th>\n",
       "      <th>petal_width</th>\n",
       "      <th>target</th>\n",
       "    </tr>\n",
       "  </thead>\n",
       "  <tbody>\n",
       "    <tr>\n",
       "      <th>35</th>\n",
       "      <td>5.0</td>\n",
       "      <td>3.2</td>\n",
       "      <td>1.2</td>\n",
       "      <td>0.2</td>\n",
       "      <td>setosa</td>\n",
       "    </tr>\n",
       "    <tr>\n",
       "      <th>75</th>\n",
       "      <td>6.6</td>\n",
       "      <td>3.0</td>\n",
       "      <td>4.4</td>\n",
       "      <td>1.4</td>\n",
       "      <td>versicolor</td>\n",
       "    </tr>\n",
       "    <tr>\n",
       "      <th>51</th>\n",
       "      <td>6.4</td>\n",
       "      <td>3.2</td>\n",
       "      <td>4.5</td>\n",
       "      <td>1.5</td>\n",
       "      <td>versicolor</td>\n",
       "    </tr>\n",
       "    <tr>\n",
       "      <th>30</th>\n",
       "      <td>4.8</td>\n",
       "      <td>3.1</td>\n",
       "      <td>1.6</td>\n",
       "      <td>0.2</td>\n",
       "      <td>setosa</td>\n",
       "    </tr>\n",
       "    <tr>\n",
       "      <th>1</th>\n",
       "      <td>4.9</td>\n",
       "      <td>3.0</td>\n",
       "      <td>1.4</td>\n",
       "      <td>0.2</td>\n",
       "      <td>setosa</td>\n",
       "    </tr>\n",
       "  </tbody>\n",
       "</table>\n",
       "</div>"
      ],
      "text/plain": [
       "    sepal_length  sepal_width  petal_length  petal_width      target\n",
       "35           5.0          3.2           1.2          0.2      setosa\n",
       "75           6.6          3.0           4.4          1.4  versicolor\n",
       "51           6.4          3.2           4.5          1.5  versicolor\n",
       "30           4.8          3.1           1.6          0.2      setosa\n",
       "1            4.9          3.0           1.4          0.2      setosa"
      ]
     },
     "execution_count": 69,
     "metadata": {},
     "output_type": "execute_result"
    }
   ],
   "source": [
    "df_test.head()"
   ]
  },
  {
   "cell_type": "markdown",
   "id": "b45b2d95",
   "metadata": {},
   "source": [
    "### Prediction"
   ]
  },
  {
   "cell_type": "code",
   "execution_count": 70,
   "id": "3e5bf186",
   "metadata": {},
   "outputs": [],
   "source": [
    "def predict(test_df, post_para):\n",
    "    \n",
    "    predictions = []\n",
    "    for i in range (len(test_df)):\n",
    "        \n",
    "        prior = post_para['prior_probabilities']\n",
    "        posterior = posterior_probabilities(df_test.iloc[i, :-1], post_para['mean'], post_para['variance'], post_para['n_unique_labels'], post_para['n_cols'])\n",
    "        \n",
    "        probabilities = prior + posterior\n",
    "        \n",
    "        # np.argmax to get one with Max probability\n",
    "        \n",
    "        mx_idx = np.argmax(probabilities)\n",
    "        predictions.append(post_para['unique_labels'][mx_idx])  # add log values\n",
    "        \n",
    "    return predictions"
   ]
  },
  {
   "cell_type": "code",
   "execution_count": 71,
   "id": "13cf8102",
   "metadata": {},
   "outputs": [],
   "source": [
    "predictions = predict(df_test, post_para)"
   ]
  },
  {
   "cell_type": "code",
   "execution_count": 72,
   "id": "ed5aa567",
   "metadata": {},
   "outputs": [
    {
     "data": {
      "text/plain": [
       "['setosa',\n",
       " 'versicolor',\n",
       " 'versicolor',\n",
       " 'setosa',\n",
       " 'setosa',\n",
       " 'versicolor',\n",
       " 'versicolor',\n",
       " 'versicolor',\n",
       " 'setosa',\n",
       " 'virginica',\n",
       " 'versicolor',\n",
       " 'virginica',\n",
       " 'versicolor',\n",
       " 'setosa',\n",
       " 'versicolor',\n",
       " 'setosa',\n",
       " 'virginica',\n",
       " 'virginica',\n",
       " 'virginica',\n",
       " 'setosa',\n",
       " 'virginica',\n",
       " 'setosa',\n",
       " 'virginica',\n",
       " 'versicolor',\n",
       " 'virginica',\n",
       " 'virginica',\n",
       " 'setosa',\n",
       " 'virginica',\n",
       " 'versicolor',\n",
       " 'setosa']"
      ]
     },
     "execution_count": 72,
     "metadata": {},
     "output_type": "execute_result"
    }
   ],
   "source": [
    "predictions"
   ]
  },
  {
   "cell_type": "markdown",
   "id": "9782d337",
   "metadata": {},
   "source": [
    "### Evaluation"
   ]
  },
  {
   "cell_type": "code",
   "execution_count": 73,
   "id": "46299266",
   "metadata": {},
   "outputs": [],
   "source": [
    "accuracy = len(df_test.loc[predictions == df_test['target']])/len(df_test)"
   ]
  },
  {
   "cell_type": "code",
   "execution_count": 74,
   "id": "3c40d072",
   "metadata": {},
   "outputs": [
    {
     "data": {
      "text/plain": [
       "0.9333333333333333"
      ]
     },
     "execution_count": 74,
     "metadata": {},
     "output_type": "execute_result"
    }
   ],
   "source": [
    "accuracy"
   ]
  }
 ],
 "metadata": {
  "kernelspec": {
   "display_name": "Python 3 (ipykernel)",
   "language": "python",
   "name": "python3"
  },
  "language_info": {
   "codemirror_mode": {
    "name": "ipython",
    "version": 3
   },
   "file_extension": ".py",
   "mimetype": "text/x-python",
   "name": "python",
   "nbconvert_exporter": "python",
   "pygments_lexer": "ipython3",
   "version": "3.8.11"
  }
 },
 "nbformat": 4,
 "nbformat_minor": 5
}
