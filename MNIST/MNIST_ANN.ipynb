{
 "cells": [
  {
   "cell_type": "code",
   "execution_count": 1,
   "id": "e1bb0bc0",
   "metadata": {},
   "outputs": [],
   "source": [
    "# For ndarray handling:\n",
    "import numpy as np\n",
    "\n",
    "# For plotting:\n",
    "import matplotlib\n",
    "import matplotlib.pyplot as plt\n",
    "\n",
    "# For deep learning functionality\n",
    "import tensorflow as tf\n",
    "from tensorflow.keras.datasets import mnist\n",
    "from tensorflow.keras.models import Sequential, load_model\n",
    "from tensorflow.keras.layers import Dense, Dropout, Activation, Flatten"
   ]
  },
  {
   "cell_type": "code",
   "execution_count": 2,
   "id": "891b458a",
   "metadata": {},
   "outputs": [
    {
     "data": {
      "image/png": "[encoded data removed]",
      "text/plain": [
       "<Figure size 432x288 with 9 Axes>"
      ]
     },
     "metadata": {
      "needs_background": "light"
     },
     "output_type": "display_data"
    }
   ],
   "source": [
    "(X_train, y_train), (X_test, y_test) = mnist.load_data()\n",
    "\n",
    "# Get the one-hot encoded labels\n",
    "n_class = len(np.unique(y_train))\n",
    "Y_train = np.eye(n_class)[y_train]\n",
    "Y_test = np.eye(n_class)[y_test]\n",
    "\n",
    "plt.figure()\n",
    "for i in range(9):\n",
    "    plt.subplot(3,3,i+1)\n",
    "    plt.imshow(X_train[i], cmap='gray', interpolation='none')\n",
    "    plt.title(f'Digit: {y_train[i]}')\n",
    "    plt.axis('off')"
   ]
  },
  {
   "cell_type": "code",
   "execution_count": null,
   "id": "4d1f391d",
   "metadata": {},
   "outputs": [
    {
     "name": "stderr",
     "output_type": "stream",
     "text": [
      "2022-04-15 01:01:19.690720: I tensorflow/core/common_runtime/pluggable_device/pluggable_device_factory.cc:305] Could not identify NUMA node of platform GPU ID 0, defaulting to 0. Your kernel may not have been built with NUMA support.\n",
      "2022-04-15 01:01:19.690990: I tensorflow/core/common_runtime/pluggable_device/pluggable_device_factory.cc:271] Created TensorFlow device (/job:localhost/replica:0/task:0/device:GPU:0 with 0 MB memory) -> physical PluggableDevice (device: 0, name: METAL, pci bus id: <undefined>)\n"
     ]
    },
    {
     "name": "stdout",
     "output_type": "stream",
     "text": [
      "Metal device set to: Apple M1\n",
      "Epoch 1/20\n"
     ]
    },
    {
     "name": "stderr",
     "output_type": "stream",
     "text": [
      "2022-04-15 01:01:19.907812: W tensorflow/core/platform/profile_utils/cpu_utils.cc:128] Failed to get CPU frequency: 0 Hz\n",
      "2022-04-15 01:01:20.089142: I tensorflow/core/grappler/optimizers/custom_graph_optimizer_registry.cc:113] Plugin optimizer for device_type GPU is enabled.\n"
     ]
    },
    {
     "name": "stdout",
     "output_type": "stream",
     "text": [
      "1497/1500 [============================>.] - ETA: 0s - loss: 0.2314 - accuracy: 0.9297"
     ]
    },
    {
     "name": "stderr",
     "output_type": "stream",
     "text": [
      "2022-04-15 01:01:30.475630: I tensorflow/core/grappler/optimizers/custom_graph_optimizer_registry.cc:113] Plugin optimizer for device_type GPU is enabled.\n"
     ]
    },
    {
     "name": "stdout",
     "output_type": "stream",
     "text": [
      "1500/1500 [==============================] - 12s 8ms/step - loss: 0.2313 - accuracy: 0.9296 - val_loss: 0.1341 - val_accuracy: 0.9581\n",
      "Epoch 2/20\n",
      "1500/1500 [==============================] - 12s 8ms/step - loss: 0.1081 - accuracy: 0.9671 - val_loss: 0.1177 - val_accuracy: 0.9644\n",
      "Epoch 3/20\n",
      "1500/1500 [==============================] - 12s 8ms/step - loss: 0.0804 - accuracy: 0.9743 - val_loss: 0.0920 - val_accuracy: 0.9746\n",
      "Epoch 4/20\n",
      "1500/1500 [==============================] - 11s 7ms/step - loss: 0.0622 - accuracy: 0.9803 - val_loss: 0.0910 - val_accuracy: 0.9734\n",
      "Epoch 5/20\n",
      "1500/1500 [==============================] - 11s 7ms/step - loss: 0.0536 - accuracy: 0.9828 - val_loss: 0.0910 - val_accuracy: 0.9741\n",
      "Epoch 6/20\n",
      "1500/1500 [==============================] - 12s 8ms/step - loss: 0.0454 - accuracy: 0.9861 - val_loss: 0.0931 - val_accuracy: 0.9752\n",
      "Epoch 7/20\n",
      "1500/1500 [==============================] - 11s 8ms/step - loss: 0.0406 - accuracy: 0.9872 - val_loss: 0.0839 - val_accuracy: 0.9781\n",
      "Epoch 8/20\n",
      "1500/1500 [==============================] - 11s 8ms/step - loss: 0.0360 - accuracy: 0.9883 - val_loss: 0.0998 - val_accuracy: 0.9772\n",
      "Epoch 9/20\n",
      "1500/1500 [==============================] - 12s 8ms/step - loss: 0.0340 - accuracy: 0.9897 - val_loss: 0.1021 - val_accuracy: 0.9761\n",
      "Epoch 10/20\n",
      "1500/1500 [==============================] - 11s 8ms/step - loss: 0.0319 - accuracy: 0.9903 - val_loss: 0.0990 - val_accuracy: 0.9778\n",
      "Epoch 11/20\n",
      "1500/1500 [==============================] - 12s 8ms/step - loss: 0.0284 - accuracy: 0.9914 - val_loss: 0.1172 - val_accuracy: 0.9763\n",
      "Epoch 12/20\n",
      "1500/1500 [==============================] - 11s 8ms/step - loss: 0.0269 - accuracy: 0.9915 - val_loss: 0.1057 - val_accuracy: 0.9783\n",
      "Epoch 13/20\n",
      "1500/1500 [==============================] - 11s 8ms/step - loss: 0.0284 - accuracy: 0.9917 - val_loss: 0.0998 - val_accuracy: 0.9797\n",
      "Epoch 14/20\n",
      "1500/1500 [==============================] - 11s 7ms/step - loss: 0.0254 - accuracy: 0.9926 - val_loss: 0.1127 - val_accuracy: 0.9780\n",
      "Epoch 15/20\n",
      "1500/1500 [==============================] - 11s 7ms/step - loss: 0.0251 - accuracy: 0.9928 - val_loss: 0.1162 - val_accuracy: 0.9796\n",
      "Epoch 16/20\n",
      "1074/1500 [====================>.........] - ETA: 2s - loss: 0.0239 - accuracy: 0.9930"
     ]
    }
   ],
   "source": [
    "# Turn our images into 1D vectors by unravelling them\n",
    "X_train_NN = X_train.reshape(X_train.shape[0], 784)\n",
    "X_test_NN = X_test.reshape(X_test.shape[0], 784)\n",
    "X_train_NN = X_train_NN.astype('float32')\n",
    "X_test_NN = X_test_NN.astype('float32')\n",
    "\n",
    "# Normalize the data to help with training\n",
    "X_train_NN /= 255\n",
    "X_test_NN /= 255\n",
    "\n",
    "# Create the model using Sequential object\n",
    "model = Sequential()\n",
    "\n",
    "# Create the first hidden layer, this takes an argument of the input data shape (i.e. number of features)\n",
    "model.add(Dense(512, input_shape=(X_train_NN.shape[1], )))\n",
    "model.add(Activation('relu'))                         \n",
    "model.add(Dropout(0.2))\n",
    "\n",
    "# Create the next hidden layer, this takes an argument of the input data shape (i.e. number of features)\n",
    "model.add(Dense(512))\n",
    "model.add(Activation('relu'))                         \n",
    "model.add(Dropout(0.2))\n",
    "\n",
    "# Create the output layer\n",
    "model.add(Dense(10))\n",
    "model.add(Activation('softmax'))\n",
    "\n",
    "# Compile the model ready for training\n",
    "model.compile('adam', loss='categorical_crossentropy', metrics=['accuracy'])\n",
    "\n",
    "history = model.fit(X_train_NN, Y_train, epochs=20, validation_split=0.2)"
   ]
  },
  {
   "cell_type": "code",
   "execution_count": 8,
   "id": "b8ece929",
   "metadata": {},
   "outputs": [
    {
     "data": {
      "image/png": "[encoded data removed]",
      "text/plain": [
       "<Figure size 432x288 with 1 Axes>"
      ]
     },
     "metadata": {
      "needs_background": "light"
     },
     "output_type": "display_data"
    },
    {
     "data": {
      "image/png": "[encoded data removed]",
      "text/plain": [
       "<Figure size 432x288 with 1 Axes>"
      ]
     },
     "metadata": {
      "needs_background": "light"
     },
     "output_type": "display_data"
    }
   ],
   "source": [
    "# summarize history for accuracy\n",
    "plt.figure()\n",
    "plt.plot(history.history['accuracy'])\n",
    "plt.plot(history.history['val_accuracy'])\n",
    "plt.title('model accuracy')\n",
    "plt.ylabel('accuracy')\n",
    "plt.xlabel('epoch')\n",
    "plt.legend(['train', 'test'], loc='upper left')\n",
    "plt.show()\n",
    "plt.figure()\n",
    "\n",
    "# summarize history for loss\n",
    "plt.plot(history.history['loss'])\n",
    "plt.plot(history.history['val_loss'])\n",
    "plt.title('model loss')\n",
    "plt.ylabel('loss')\n",
    "plt.xlabel('epoch')\n",
    "plt.legend(['train', 'test'], loc='upper left')\n",
    "plt.show()"
   ]
  },
  {
   "cell_type": "code",
   "execution_count": 5,
   "id": "9f4443ff",
   "metadata": {},
   "outputs": [
    {
     "name": "stderr",
     "output_type": "stream",
     "text": [
      "2022-04-09 09:58:25.730103: I tensorflow/core/grappler/optimizers/custom_graph_optimizer_registry.cc:113] Plugin optimizer for device_type GPU is enabled.\n"
     ]
    },
    {
     "name": "stdout",
     "output_type": "stream",
     "text": [
      "9794 classified correctly\n",
      "206 classified incorrectly\n",
      "97.94% of test set classified correctly\n"
     ]
    }
   ],
   "source": [
    "predicted_probability = model.predict(X_test_NN)\n",
    "predicted_classes = np.argmax(predicted_probability, axis=-1)\n",
    "\n",
    "correct_preds = np.nonzero(predicted_classes == y_test)[0]\n",
    "incorrect_preds = np.nonzero(predicted_classes != y_test)[0]\n",
    "print(f'{len(correct_preds)} classified correctly')\n",
    "print(f'{len(incorrect_preds)} classified incorrectly')\n",
    "print(f'{len(correct_preds) / len(y_test) * 100}% of test set classified correctly')"
   ]
  },
  {
   "cell_type": "code",
   "execution_count": null,
   "id": "d2fe4aa9",
   "metadata": {},
   "outputs": [],
   "source": [
    "print('Correctly classified:')\n",
    "for i_correct in correct_preds[0:5]:\n",
    "    plt.figure()\n",
    "    plt.subplot(1, 2, 1)\n",
    "    plt.bar(range(n_class), predicted_probability[i_correct], tick_label=range(n_class))\n",
    "    plt.subplot(1, 2, 2)\n",
    "    plt.imshow(X_test[i_correct], cmap='gray', interpolation='none')\n",
    "    plt.title(f'Truth: {y_test[i_correct]}, Predicted: {predicted_classes[i_correct]}')\n",
    "    plt.axis('off')\n",
    "    plt.show()\n",
    "    \n",
    "print('Incorrectly classified:')\n",
    "for i_incorrect in incorrect_preds[0:5]:\n",
    "    plt.figure()\n",
    "    plt.subplot(1, 2, 1)\n",
    "    plt.bar(range(n_class), predicted_probability[i_incorrect], tick_label=range(n_class))\n",
    "    plt.subplot(1, 2, 2)\n",
    "    plt.imshow(X_test[i_incorrect], cmap='gray', interpolation='none')\n",
    "    plt.title(f'Truth: {y_test[i_incorrect]}, Predicted: {predicted_classes[i_incorrect]}')\n",
    "    plt.axis('off')\n",
    "    plt.show()"
   ]
  }
 ],
 "metadata": {
  "kernelspec": {
   "display_name": "Python 3 (ipykernel)",
   "language": "python",
   "name": "python3"
  },
  "language_info": {
   "codemirror_mode": {
    "name": "ipython",
    "version": 3
   },
   "file_extension": ".py",
   "mimetype": "text/x-python",
   "name": "python",
   "nbconvert_exporter": "python",
   "pygments_lexer": "ipython3",
   "version": "3.8.11"
  }
 },
 "nbformat": 4,
 "nbformat_minor": 5
}
