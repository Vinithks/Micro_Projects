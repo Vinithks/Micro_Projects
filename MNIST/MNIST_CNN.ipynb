{
 "cells": [
  {
   "cell_type": "code",
   "execution_count": 5,
   "id": "747dd2a8",
   "metadata": {},
   "outputs": [],
   "source": [
    "# For ndarray handling:\n",
    "import numpy as np\n",
    "\n",
    "# For plotting:\n",
    "import matplotlib\n",
    "import matplotlib.pyplot as plt\n",
    "\n",
    "# For deep learning functionality\n",
    "import tensorflow as tf\n",
    "from tensorflow.keras.datasets import mnist\n",
    "from tensorflow.keras.models import Sequential, load_model\n",
    "from tensorflow.keras.layers import Dense, Dropout, Activation, Flatten\n",
    "from tensorflow.keras.layers import Conv2D, MaxPool2D"
   ]
  },
  {
   "cell_type": "code",
   "execution_count": 6,
   "id": "2b60fc53",
   "metadata": {},
   "outputs": [
    {
     "data": {
      "image/png": "[encoded data removed]",
      "text/plain": [
       "<Figure size 432x288 with 9 Axes>"
      ]
     },
     "metadata": {
      "needs_background": "light"
     },
     "output_type": "display_data"
    }
   ],
   "source": [
    "(X_train, y_train), (X_test, y_test) = mnist.load_data()\n",
    "\n",
    "# Get the one-hot encoded labels\n",
    "n_class = len(np.unique(y_train))\n",
    "Y_train = np.eye(n_class)[y_train]\n",
    "Y_test = np.eye(n_class)[y_test]\n",
    "\n",
    "plt.figure()\n",
    "for i in range(9):\n",
    "    plt.subplot(3,3,i+1)\n",
    "    plt.imshow(X_train[i], cmap='gray', interpolation='none')\n",
    "    plt.title(f'Digit: {y_train[i]}')\n",
    "    plt.axis('off')"
   ]
  },
  {
   "cell_type": "code",
   "execution_count": 8,
   "id": "600db160",
   "metadata": {},
   "outputs": [
    {
     "name": "stdout",
     "output_type": "stream",
     "text": [
      "Epoch 1/15\n",
      "   6/1500 [..............................] - ETA: 15s - loss: 2.2627 - accuracy: 0.1354 "
     ]
    },
    {
     "name": "stderr",
     "output_type": "stream",
     "text": [
      "2022-04-15 01:08:05.093836: I tensorflow/core/grappler/optimizers/custom_graph_optimizer_registry.cc:113] Plugin optimizer for device_type GPU is enabled.\n"
     ]
    },
    {
     "name": "stdout",
     "output_type": "stream",
     "text": [
      "1500/1500 [==============================] - ETA: 0s - loss: 0.2369 - accuracy: 0.9288"
     ]
    },
    {
     "name": "stderr",
     "output_type": "stream",
     "text": [
      "2022-04-15 01:08:20.236238: I tensorflow/core/grappler/optimizers/custom_graph_optimizer_registry.cc:113] Plugin optimizer for device_type GPU is enabled.\n"
     ]
    },
    {
     "name": "stdout",
     "output_type": "stream",
     "text": [
      "1500/1500 [==============================] - 17s 11ms/step - loss: 0.2369 - accuracy: 0.9288 - val_loss: 0.0982 - val_accuracy: 0.9734\n",
      "Epoch 2/15\n",
      "1500/1500 [==============================] - 16s 11ms/step - loss: 0.0857 - accuracy: 0.9740 - val_loss: 0.0677 - val_accuracy: 0.9810\n",
      "Epoch 3/15\n",
      "1500/1500 [==============================] - 16s 11ms/step - loss: 0.0636 - accuracy: 0.9792 - val_loss: 0.0628 - val_accuracy: 0.9817\n",
      "Epoch 4/15\n",
      "1500/1500 [==============================] - 16s 11ms/step - loss: 0.0520 - accuracy: 0.9836 - val_loss: 0.0566 - val_accuracy: 0.9828\n",
      "Epoch 5/15\n",
      "1500/1500 [==============================] - 15s 10ms/step - loss: 0.0430 - accuracy: 0.9861 - val_loss: 0.0497 - val_accuracy: 0.9849\n",
      "Epoch 6/15\n",
      "1500/1500 [==============================] - 15s 10ms/step - loss: 0.0378 - accuracy: 0.9874 - val_loss: 0.0499 - val_accuracy: 0.9844\n",
      "Epoch 7/15\n",
      "1500/1500 [==============================] - 16s 11ms/step - loss: 0.0317 - accuracy: 0.9896 - val_loss: 0.0449 - val_accuracy: 0.9862\n",
      "Epoch 8/15\n",
      "1500/1500 [==============================] - 17s 11ms/step - loss: 0.0278 - accuracy: 0.9909 - val_loss: 0.0486 - val_accuracy: 0.9862\n",
      "Epoch 9/15\n",
      "1500/1500 [==============================] - 16s 11ms/step - loss: 0.0256 - accuracy: 0.9911 - val_loss: 0.0488 - val_accuracy: 0.9856\n",
      "Epoch 10/15\n",
      "1500/1500 [==============================] - 16s 10ms/step - loss: 0.0230 - accuracy: 0.9919 - val_loss: 0.0422 - val_accuracy: 0.9887\n",
      "Epoch 11/15\n",
      "1500/1500 [==============================] - 15s 10ms/step - loss: 0.0200 - accuracy: 0.9931 - val_loss: 0.0439 - val_accuracy: 0.9877\n",
      "Epoch 12/15\n",
      "1500/1500 [==============================] - 15s 10ms/step - loss: 0.0205 - accuracy: 0.9931 - val_loss: 0.0437 - val_accuracy: 0.9877\n",
      "Epoch 13/15\n",
      "1500/1500 [==============================] - 16s 10ms/step - loss: 0.0165 - accuracy: 0.9942 - val_loss: 0.0478 - val_accuracy: 0.9873\n",
      "Epoch 14/15\n",
      "1500/1500 [==============================] - 15s 10ms/step - loss: 0.0175 - accuracy: 0.9939 - val_loss: 0.0471 - val_accuracy: 0.9871\n",
      "Epoch 15/15\n",
      "1500/1500 [==============================] - 16s 10ms/step - loss: 0.0149 - accuracy: 0.9952 - val_loss: 0.0458 - val_accuracy: 0.9875\n"
     ]
    }
   ],
   "source": [
    "# Normalize the data to help with training\n",
    "X_train_CNN = np.expand_dims(X_train, axis=-1)\n",
    "X_test_CNN = np.expand_dims(X_test, axis=-1)\n",
    "X_train_CNN = X_train_CNN.astype('float32')\n",
    "X_test_CNN = X_test_CNN.astype('float32')\n",
    "X_train_CNN /= 255\n",
    "X_test_CNN /= 255\n",
    "\n",
    "# Create the model using Sequential object\n",
    "model = Sequential()\n",
    "\n",
    "# Create the first hidden layer, this takes an argument of the input data shape (i.e. number of features)\n",
    "model.add(Conv2D(10, (5, 5), input_shape=(X_train_CNN.shape[1], X_train_CNN.shape[2], 1)))\n",
    "model.add(Activation('relu'))                         \n",
    "model.add(Dropout(0.2))\n",
    "\n",
    "# Create the next hidden layer, this takes an argument of the input data shape (i.e. number of features)\n",
    "model.add(MaxPool2D())\n",
    "model.add(Activation('relu'))                         \n",
    "model.add(Dropout(0.2))\n",
    "\n",
    "# Create the dense head layer\n",
    "model.add(Flatten())\n",
    "model.add(Dense(50))\n",
    "model.add(Activation('relu'))\n",
    "\n",
    "# Create the output layer\n",
    "model.add(Dense(10))\n",
    "model.add(Activation('softmax'))\n",
    "\n",
    "# Compile the model ready for training\n",
    "model.compile('adam', loss='categorical_crossentropy', metrics=['accuracy'])\n",
    "\n",
    "history = model.fit(X_train_CNN, Y_train, epochs=15, validation_split=0.2)"
   ]
  },
  {
   "cell_type": "code",
   "execution_count": 9,
   "id": "263e2823",
   "metadata": {},
   "outputs": [
    {
     "name": "stderr",
     "output_type": "stream",
     "text": [
      "2022-04-15 01:12:23.000260: I tensorflow/core/grappler/optimizers/custom_graph_optimizer_registry.cc:113] Plugin optimizer for device_type GPU is enabled.\n"
     ]
    },
    {
     "name": "stdout",
     "output_type": "stream",
     "text": [
      "9880 classified correctly\n",
      "120 classified incorrectly\n",
      "98.8% of test set classified correctly\n"
     ]
    }
   ],
   "source": [
    "predicted_probability = model.predict(X_test_CNN)\n",
    "\n",
    "predicted_classes = np.argmax(predicted_probability, axis=-1)\n",
    "\n",
    "correct_preds = np.nonzero(predicted_classes == y_test)[0]\n",
    "incorrect_preds = np.nonzero(predicted_classes != y_test)[0]\n",
    "print(f'{len(correct_preds)} classified correctly')\n",
    "print(f'{len(incorrect_preds)} classified incorrectly')\n",
    "print(f'{len(correct_preds) / len(y_test) * 100}% of test set classified correctly')"
   ]
  },
  {
   "cell_type": "code",
   "execution_count": null,
   "id": "d8d5c771",
   "metadata": {},
   "outputs": [],
   "source": []
  }
 ],
 "metadata": {
  "kernelspec": {
   "display_name": "Python 3 (ipykernel)",
   "language": "python",
   "name": "python3"
  },
  "language_info": {
   "codemirror_mode": {
    "name": "ipython",
    "version": 3
   },
   "file_extension": ".py",
   "mimetype": "text/x-python",
   "name": "python",
   "nbconvert_exporter": "python",
   "pygments_lexer": "ipython3",
   "version": "3.8.11"
  }
 },
 "nbformat": 4,
 "nbformat_minor": 5
}
