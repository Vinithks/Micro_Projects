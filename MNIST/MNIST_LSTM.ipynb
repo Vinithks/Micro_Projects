{
 "cells": [
  {
   "cell_type": "code",
   "execution_count": 1,
   "id": "80e22a5e",
   "metadata": {},
   "outputs": [],
   "source": [
    "# For ndarray handling:\n",
    "import numpy as np\n",
    "\n",
    "# For plotting:\n",
    "import matplotlib\n",
    "import matplotlib.pyplot as plt\n",
    "\n",
    "# For deep learning functionality\n",
    "import tensorflow as tf\n",
    "from tensorflow.keras.datasets import mnist\n",
    "from tensorflow.keras.models import Sequential, load_model\n",
    "from tensorflow.keras.layers import Dense, Dropout, Activation, Flatten\n",
    "from tensorflow.keras.layers import Conv2D, MaxPool2D\n",
    "from tensorflow.keras.layers import SimpleRNN, LSTM"
   ]
  },
  {
   "cell_type": "code",
   "execution_count": 2,
   "id": "845c9133",
   "metadata": {},
   "outputs": [
    {
     "data": {
      "image/png": "[encoded data removed]",
      "text/plain": [
       "<Figure size 432x288 with 9 Axes>"
      ]
     },
     "metadata": {
      "needs_background": "light"
     },
     "output_type": "display_data"
    }
   ],
   "source": [
    "(X_train, y_train), (X_test, y_test) = mnist.load_data()\n",
    "\n",
    "# Get the one-hot encoded labels\n",
    "n_class = len(np.unique(y_train))\n",
    "Y_train = np.eye(n_class)[y_train]\n",
    "Y_test = np.eye(n_class)[y_test]\n",
    "\n",
    "plt.figure()\n",
    "for i in range(9):\n",
    "    plt.subplot(3,3,i+1)\n",
    "    plt.imshow(X_train[i], cmap='gray', interpolation='none')\n",
    "    plt.title(f'Digit: {y_train[i]}')\n",
    "    plt.axis('off')"
   ]
  },
  {
   "cell_type": "code",
   "execution_count": 5,
   "id": "228d6267",
   "metadata": {},
   "outputs": [
    {
     "name": "stdout",
     "output_type": "stream",
     "text": [
      "Model: \"sequential_2\"\n",
      "_________________________________________________________________\n",
      " Layer (type)                Output Shape              Param #   \n",
      "=================================================================\n",
      " lstm_2 (LSTM)               (60000, 8)                1184      \n",
      "                                                                 \n",
      " activation_4 (Activation)   (60000, 8)                0         \n",
      "                                                                 \n",
      " dropout_2 (Dropout)         (60000, 8)                0         \n",
      "                                                                 \n",
      " dense_2 (Dense)             (60000, 10)               90        \n",
      "                                                                 \n",
      " activation_5 (Activation)   (60000, 10)               0         \n",
      "                                                                 \n",
      "=================================================================\n",
      "Total params: 1,274\n",
      "Trainable params: 1,274\n",
      "Non-trainable params: 0\n",
      "_________________________________________________________________\n",
      "Epoch 1/15\n"
     ]
    },
    {
     "name": "stderr",
     "output_type": "stream",
     "text": [
      "2022-04-15 11:36:46.095845: I tensorflow/core/grappler/optimizers/custom_graph_optimizer_registry.cc:113] Plugin optimizer for device_type GPU is enabled.\n",
      "2022-04-15 11:36:46.193237: I tensorflow/core/grappler/optimizers/custom_graph_optimizer_registry.cc:113] Plugin optimizer for device_type GPU is enabled.\n",
      "2022-04-15 11:36:46.258224: I tensorflow/core/grappler/optimizers/custom_graph_optimizer_registry.cc:113] Plugin optimizer for device_type GPU is enabled.\n"
     ]
    },
    {
     "name": "stdout",
     "output_type": "stream",
     "text": [
      "1497/1500 [============================>.] - ETA: 0s - loss: 1.6348 - accuracy: 0.4571"
     ]
    },
    {
     "name": "stderr",
     "output_type": "stream",
     "text": [
      "2022-04-15 11:37:06.114471: I tensorflow/core/grappler/optimizers/custom_graph_optimizer_registry.cc:113] Plugin optimizer for device_type GPU is enabled.\n",
      "2022-04-15 11:37:06.158174: I tensorflow/core/grappler/optimizers/custom_graph_optimizer_registry.cc:113] Plugin optimizer for device_type GPU is enabled.\n"
     ]
    },
    {
     "name": "stdout",
     "output_type": "stream",
     "text": [
      "1500/1500 [==============================] - 24s 15ms/step - loss: 1.6339 - accuracy: 0.4574 - val_loss: 1.0538 - val_accuracy: 0.6893\n",
      "Epoch 2/15\n",
      "1500/1500 [==============================] - 22s 14ms/step - loss: 1.0091 - accuracy: 0.6729 - val_loss: 0.7908 - val_accuracy: 0.7472\n",
      "Epoch 3/15\n",
      "1500/1500 [==============================] - 22s 14ms/step - loss: 0.8577 - accuracy: 0.7201 - val_loss: 0.6801 - val_accuracy: 0.7837\n",
      "Epoch 4/15\n",
      "1500/1500 [==============================] - 23s 15ms/step - loss: 0.7646 - accuracy: 0.7550 - val_loss: 0.6052 - val_accuracy: 0.8163\n",
      "Epoch 5/15\n",
      "1500/1500 [==============================] - 22s 14ms/step - loss: 0.6920 - accuracy: 0.7893 - val_loss: 0.5177 - val_accuracy: 0.8436\n",
      "Epoch 6/15\n",
      "1500/1500 [==============================] - 22s 14ms/step - loss: 0.6388 - accuracy: 0.8076 - val_loss: 0.4858 - val_accuracy: 0.8570\n",
      "Epoch 7/15\n",
      "1500/1500 [==============================] - 22s 15ms/step - loss: 0.6016 - accuracy: 0.8214 - val_loss: 0.4590 - val_accuracy: 0.8618\n",
      "Epoch 8/15\n",
      "1500/1500 [==============================] - 22s 15ms/step - loss: 0.5745 - accuracy: 0.8285 - val_loss: 0.4270 - val_accuracy: 0.8708\n",
      "Epoch 9/15\n",
      "1500/1500 [==============================] - 22s 15ms/step - loss: 0.5542 - accuracy: 0.8361 - val_loss: 0.4044 - val_accuracy: 0.8787\n",
      "Epoch 10/15\n",
      "1500/1500 [==============================] - 22s 15ms/step - loss: 0.5339 - accuracy: 0.8398 - val_loss: 0.4106 - val_accuracy: 0.8766\n",
      "Epoch 11/15\n",
      "1500/1500 [==============================] - 22s 15ms/step - loss: 0.5140 - accuracy: 0.8480 - val_loss: 0.3929 - val_accuracy: 0.8801\n",
      "Epoch 12/15\n",
      "1500/1500 [==============================] - 22s 15ms/step - loss: 0.5092 - accuracy: 0.8499 - val_loss: 0.3797 - val_accuracy: 0.8845\n",
      "Epoch 13/15\n",
      "1500/1500 [==============================] - 22s 15ms/step - loss: 0.4900 - accuracy: 0.8556 - val_loss: 0.3646 - val_accuracy: 0.8913\n",
      "Epoch 14/15\n",
      "1500/1500 [==============================] - 22s 14ms/step - loss: 0.4812 - accuracy: 0.8585 - val_loss: 0.3582 - val_accuracy: 0.8908\n",
      "Epoch 15/15\n",
      "1500/1500 [==============================] - 22s 15ms/step - loss: 0.4710 - accuracy: 0.8649 - val_loss: 0.3371 - val_accuracy: 0.9001\n"
     ]
    }
   ],
   "source": [
    "# Normalize the data to help with training\n",
    "X_train_LSTM = X_train\n",
    "X_test_LSTM = X_test\n",
    "X_train_LSTM = X_train_LSTM.astype('float32')\n",
    "X_test_LSTM = X_test_LSTM.astype('float32')\n",
    "X_train_LSTM /= 255\n",
    "X_test_LSTM /= 255\n",
    "\n",
    "# Create the model using Sequential object\n",
    "model = Sequential()\n",
    "\n",
    "# Create the first hidden layer, this takes an argument of the input data shape (i.e. number of features)\n",
    "model.add(LSTM(8))\n",
    "model.add(Activation('tanh'))                         \n",
    "model.add(Dropout(0.2))\n",
    "\n",
    "# Create the output layer\n",
    "model.add(Dense(10))\n",
    "model.add(Activation('softmax'))\n",
    "\n",
    "# Compile the model ready for training\n",
    "model.compile('adam', loss='categorical_crossentropy', metrics=['accuracy'])\n",
    "\n",
    "model.build(X_train_LSTM.shape)\n",
    "model.summary()\n",
    "\n",
    "history = model.fit(X_train_LSTM, Y_train, epochs=15, validation_split=0.2)"
   ]
  },
  {
   "cell_type": "code",
   "execution_count": 6,
   "id": "c5bc499c",
   "metadata": {},
   "outputs": [
    {
     "data": {
      "image/png": "[encoded data removed]",
      "text/plain": [
       "<Figure size 432x288 with 1 Axes>"
      ]
     },
     "metadata": {
      "needs_background": "light"
     },
     "output_type": "display_data"
    },
    {
     "data": {
      "image/png": "[encoded data removed]",
      "text/plain": [
       "<Figure size 432x288 with 1 Axes>"
      ]
     },
     "metadata": {
      "needs_background": "light"
     },
     "output_type": "display_data"
    }
   ],
   "source": [
    "# Summarize history for accuracy\n",
    "plt.figure()\n",
    "plt.plot(history.history['accuracy'])\n",
    "plt.plot(history.history['val_accuracy'])\n",
    "plt.title('model accuracy')\n",
    "plt.ylabel('accuracy')\n",
    "plt.xlabel('epoch')\n",
    "plt.legend(['train', 'test'], loc='upper left')\n",
    "plt.show()\n",
    "plt.figure()\n",
    "\n",
    "# Summarize history for loss\n",
    "plt.plot(history.history['loss'])\n",
    "plt.plot(history.history['val_loss'])\n",
    "plt.title('model loss')\n",
    "plt.ylabel('loss')\n",
    "plt.xlabel('epoch')\n",
    "plt.legend(['train', 'test'], loc='upper left')\n",
    "plt.show()"
   ]
  },
  {
   "cell_type": "code",
   "execution_count": 7,
   "id": "0281c4ed",
   "metadata": {},
   "outputs": [
    {
     "name": "stderr",
     "output_type": "stream",
     "text": [
      "2022-04-15 11:43:57.568446: I tensorflow/core/grappler/optimizers/custom_graph_optimizer_registry.cc:113] Plugin optimizer for device_type GPU is enabled.\n",
      "2022-04-15 11:43:57.606385: I tensorflow/core/grappler/optimizers/custom_graph_optimizer_registry.cc:113] Plugin optimizer for device_type GPU is enabled.\n"
     ]
    },
    {
     "name": "stdout",
     "output_type": "stream",
     "text": [
      "8943 classified correctly\n",
      "1057 classified incorrectly\n",
      "89.42999999999999% of test set classified correctly\n"
     ]
    }
   ],
   "source": [
    "predicted_probability = model.predict(X_test_LSTM)\n",
    "\n",
    "predicted_classes = np.argmax(predicted_probability, axis=-1)\n",
    "\n",
    "correct_preds = np.nonzero(predicted_classes == y_test)[0]\n",
    "incorrect_preds = np.nonzero(predicted_classes != y_test)[0]\n",
    "print(f'{len(correct_preds)} classified correctly')\n",
    "print(f'{len(incorrect_preds)} classified incorrectly')\n",
    "print(f'{len(correct_preds) / len(y_test) * 100}% of test set classified correctly')"
   ]
  },
  {
   "cell_type": "code",
   "execution_count": null,
   "id": "e40a926e",
   "metadata": {},
   "outputs": [],
   "source": []
  }
 ],
 "metadata": {
  "kernelspec": {
   "display_name": "Python 3 (ipykernel)",
   "language": "python",
   "name": "python3"
  },
  "language_info": {
   "codemirror_mode": {
    "name": "ipython",
    "version": 3
   },
   "file_extension": ".py",
   "mimetype": "text/x-python",
   "name": "python",
   "nbconvert_exporter": "python",
   "pygments_lexer": "ipython3",
   "version": "3.8.11"
  }
 },
 "nbformat": 4,
 "nbformat_minor": 5
}
