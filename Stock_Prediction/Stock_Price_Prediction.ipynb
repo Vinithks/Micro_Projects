{
 "cells": [
  {
   "cell_type": "markdown",
   "id": "08503845",
   "metadata": {},
   "source": [
    "# Importing Libraries"
   ]
  },
  {
   "cell_type": "code",
   "execution_count": 1,
   "id": "9358fb6b",
   "metadata": {},
   "outputs": [],
   "source": [
    "import numpy as np\n",
    "import pandas as pd\n",
    "import tensorflow as tf\n",
    "import matplotlib.pyplot as plt\n",
    "import sklearn\n",
    "from sklearn.preprocessing import MinMaxScaler\n",
    "import matplotlib.pyplot as plt"
   ]
  },
  {
   "cell_type": "markdown",
   "id": "a5f0a31a",
   "metadata": {},
   "source": [
    "# Loading the Data"
   ]
  },
  {
   "cell_type": "code",
   "execution_count": 2,
   "id": "e17a465f",
   "metadata": {},
   "outputs": [],
   "source": [
    "data = pd.read_csv('NSE-TATAGLOBAL.csv')"
   ]
  },
  {
   "cell_type": "code",
   "execution_count": 3,
   "id": "abca148d",
   "metadata": {},
   "outputs": [],
   "source": [
    "training_set = data.iloc[:, 1: 2].values"
   ]
  },
  {
   "cell_type": "code",
   "execution_count": 4,
   "id": "a5dc1ee8",
   "metadata": {},
   "outputs": [
    {
     "name": "stdout",
     "output_type": "stream",
     "text": [
      "[[234.05]\n",
      " [234.55]\n",
      " [240.  ]\n",
      " ...\n",
      " [121.8 ]\n",
      " [120.3 ]\n",
      " [122.1 ]]\n"
     ]
    }
   ],
   "source": [
    "print(training_set)"
   ]
  },
  {
   "cell_type": "code",
   "execution_count": 5,
   "id": "d453f3d3",
   "metadata": {},
   "outputs": [
    {
     "data": {
      "text/html": [
       "<div>\n",
       "<style scoped>\n",
       "    .dataframe tbody tr th:only-of-type {\n",
       "        vertical-align: middle;\n",
       "    }\n",
       "\n",
       "    .dataframe tbody tr th {\n",
       "        vertical-align: top;\n",
       "    }\n",
       "\n",
       "    .dataframe thead th {\n",
       "        text-align: right;\n",
       "    }\n",
       "</style>\n",
       "<table border=\"1\" class=\"dataframe\">\n",
       "  <thead>\n",
       "    <tr style=\"text-align: right;\">\n",
       "      <th></th>\n",
       "      <th>Date</th>\n",
       "      <th>Open</th>\n",
       "      <th>High</th>\n",
       "      <th>Low</th>\n",
       "      <th>Last</th>\n",
       "      <th>Close</th>\n",
       "      <th>Total Trade Quantity</th>\n",
       "      <th>Turnover (Lacs)</th>\n",
       "    </tr>\n",
       "  </thead>\n",
       "  <tbody>\n",
       "    <tr>\n",
       "      <th>0</th>\n",
       "      <td>2018-09-28</td>\n",
       "      <td>234.05</td>\n",
       "      <td>235.95</td>\n",
       "      <td>230.20</td>\n",
       "      <td>233.50</td>\n",
       "      <td>233.75</td>\n",
       "      <td>3069914</td>\n",
       "      <td>7162.35</td>\n",
       "    </tr>\n",
       "    <tr>\n",
       "      <th>1</th>\n",
       "      <td>2018-09-27</td>\n",
       "      <td>234.55</td>\n",
       "      <td>236.80</td>\n",
       "      <td>231.10</td>\n",
       "      <td>233.80</td>\n",
       "      <td>233.25</td>\n",
       "      <td>5082859</td>\n",
       "      <td>11859.95</td>\n",
       "    </tr>\n",
       "    <tr>\n",
       "      <th>2</th>\n",
       "      <td>2018-09-26</td>\n",
       "      <td>240.00</td>\n",
       "      <td>240.00</td>\n",
       "      <td>232.50</td>\n",
       "      <td>235.00</td>\n",
       "      <td>234.25</td>\n",
       "      <td>2240909</td>\n",
       "      <td>5248.60</td>\n",
       "    </tr>\n",
       "    <tr>\n",
       "      <th>3</th>\n",
       "      <td>2018-09-25</td>\n",
       "      <td>233.30</td>\n",
       "      <td>236.75</td>\n",
       "      <td>232.00</td>\n",
       "      <td>236.25</td>\n",
       "      <td>236.10</td>\n",
       "      <td>2349368</td>\n",
       "      <td>5503.90</td>\n",
       "    </tr>\n",
       "    <tr>\n",
       "      <th>4</th>\n",
       "      <td>2018-09-24</td>\n",
       "      <td>233.55</td>\n",
       "      <td>239.20</td>\n",
       "      <td>230.75</td>\n",
       "      <td>234.00</td>\n",
       "      <td>233.30</td>\n",
       "      <td>3423509</td>\n",
       "      <td>7999.55</td>\n",
       "    </tr>\n",
       "  </tbody>\n",
       "</table>\n",
       "</div>"
      ],
      "text/plain": [
       "         Date    Open    High     Low    Last   Close  Total Trade Quantity  \\\n",
       "0  2018-09-28  234.05  235.95  230.20  233.50  233.75               3069914   \n",
       "1  2018-09-27  234.55  236.80  231.10  233.80  233.25               5082859   \n",
       "2  2018-09-26  240.00  240.00  232.50  235.00  234.25               2240909   \n",
       "3  2018-09-25  233.30  236.75  232.00  236.25  236.10               2349368   \n",
       "4  2018-09-24  233.55  239.20  230.75  234.00  233.30               3423509   \n",
       "\n",
       "   Turnover (Lacs)  \n",
       "0          7162.35  \n",
       "1         11859.95  \n",
       "2          5248.60  \n",
       "3          5503.90  \n",
       "4          7999.55  "
      ]
     },
     "execution_count": 5,
     "metadata": {},
     "output_type": "execute_result"
    }
   ],
   "source": [
    "data.head(5)"
   ]
  },
  {
   "cell_type": "markdown",
   "id": "1ebf4a12",
   "metadata": {},
   "source": [
    "# Data Pre Processing"
   ]
  },
  {
   "cell_type": "code",
   "execution_count": 6,
   "id": "44fb0c48",
   "metadata": {},
   "outputs": [],
   "source": [
    "sc = MinMaxScaler(feature_range = (0, 1))\n",
    "training_set_scaled = sc.fit_transform(training_set)"
   ]
  },
  {
   "cell_type": "code",
   "execution_count": 7,
   "id": "7a24dc97",
   "metadata": {},
   "outputs": [],
   "source": [
    "x_train = []\n",
    "y_train = []\n",
    "for i in range(60, 2035):\n",
    "    x_train.append(training_set_scaled[i - 60: i, 0])\n",
    "    y_train.append(training_set_scaled[i, 0])\n",
    "x_train, y_train = np.array(x_train), np.array(y_train)\n",
    "\n",
    "x_train = np.reshape(x_train, (x_train.shape[0], x_train.shape[1], 1))\n"
   ]
  },
  {
   "cell_type": "markdown",
   "id": "486bfe3e",
   "metadata": {},
   "source": [
    "# Model Building"
   ]
  },
  {
   "cell_type": "code",
   "execution_count": 8,
   "id": "ad9ba48a",
   "metadata": {},
   "outputs": [],
   "source": [
    "from keras.models import Sequential\n",
    "from keras.layers import Dense\n",
    "from keras.layers import LSTM\n",
    "from keras.layers import Dropout"
   ]
  },
  {
   "cell_type": "code",
   "execution_count": 9,
   "id": "e313280d",
   "metadata": {},
   "outputs": [
    {
     "name": "stdout",
     "output_type": "stream",
     "text": [
      "Metal device set to: Apple M1\n"
     ]
    },
    {
     "name": "stderr",
     "output_type": "stream",
     "text": [
      "2022-04-29 08:00:00.890732: I tensorflow/core/common_runtime/pluggable_device/pluggable_device_factory.cc:305] Could not identify NUMA node of platform GPU ID 0, defaulting to 0. Your kernel may not have been built with NUMA support.\n",
      "2022-04-29 08:00:00.891036: I tensorflow/core/common_runtime/pluggable_device/pluggable_device_factory.cc:271] Created TensorFlow device (/job:localhost/replica:0/task:0/device:GPU:0 with 0 MB memory) -> physical PluggableDevice (device: 0, name: METAL, pci bus id: <undefined>)\n"
     ]
    },
    {
     "name": "stdout",
     "output_type": "stream",
     "text": [
      "Epoch 1/100\n"
     ]
    },
    {
     "name": "stderr",
     "output_type": "stream",
     "text": [
      "2022-04-29 08:00:01.736053: W tensorflow/core/platform/profile_utils/cpu_utils.cc:128] Failed to get CPU frequency: 0 Hz\n",
      "2022-04-29 08:00:03.851062: I tensorflow/core/grappler/optimizers/custom_graph_optimizer_registry.cc:113] Plugin optimizer for device_type GPU is enabled.\n",
      "2022-04-29 08:00:04.239168: I tensorflow/core/grappler/optimizers/custom_graph_optimizer_registry.cc:113] Plugin optimizer for device_type GPU is enabled.\n",
      "2022-04-29 08:00:04.606047: I tensorflow/core/grappler/optimizers/custom_graph_optimizer_registry.cc:113] Plugin optimizer for device_type GPU is enabled.\n",
      "2022-04-29 08:00:04.721120: I tensorflow/core/grappler/optimizers/custom_graph_optimizer_registry.cc:113] Plugin optimizer for device_type GPU is enabled.\n",
      "2022-04-29 08:00:04.803508: I tensorflow/core/grappler/optimizers/custom_graph_optimizer_registry.cc:113] Plugin optimizer for device_type GPU is enabled.\n",
      "2022-04-29 08:00:05.168706: I tensorflow/core/grappler/optimizers/custom_graph_optimizer_registry.cc:113] Plugin optimizer for device_type GPU is enabled.\n",
      "2022-04-29 08:00:05.606039: I tensorflow/core/grappler/optimizers/custom_graph_optimizer_registry.cc:113] Plugin optimizer for device_type GPU is enabled.\n",
      "2022-04-29 08:00:05.765677: I tensorflow/core/grappler/optimizers/custom_graph_optimizer_registry.cc:113] Plugin optimizer for device_type GPU is enabled.\n"
     ]
    },
    {
     "name": "stdout",
     "output_type": "stream",
     "text": [
      "\r",
      " 1/62 [..............................] - ETA: 4:25 - loss: 0.1513"
     ]
    },
    {
     "name": "stderr",
     "output_type": "stream",
     "text": [
      "2022-04-29 08:00:05.917771: I tensorflow/core/grappler/optimizers/custom_graph_optimizer_registry.cc:113] Plugin optimizer for device_type GPU is enabled.\n"
     ]
    },
    {
     "name": "stdout",
     "output_type": "stream",
     "text": [
      "62/62 [==============================] - 8s 63ms/step - loss: 0.0096\n",
      "Epoch 2/100\n",
      "62/62 [==============================] - 3s 51ms/step - loss: 0.0022\n",
      "Epoch 3/100\n",
      "62/62 [==============================] - 3s 51ms/step - loss: 0.0020\n",
      "Epoch 4/100\n",
      "62/62 [==============================] - 3s 51ms/step - loss: 0.0018\n",
      "Epoch 5/100\n",
      "62/62 [==============================] - 3s 53ms/step - loss: 0.0014\n",
      "Epoch 6/100\n",
      "62/62 [==============================] - 3s 52ms/step - loss: 0.0018\n",
      "Epoch 7/100\n",
      "62/62 [==============================] - 3s 51ms/step - loss: 0.0014\n",
      "Epoch 8/100\n",
      "62/62 [==============================] - 3s 50ms/step - loss: 0.0012\n",
      "Epoch 9/100\n",
      "62/62 [==============================] - 3s 51ms/step - loss: 0.0012\n",
      "Epoch 10/100\n",
      "62/62 [==============================] - 3s 52ms/step - loss: 0.0011\n",
      "Epoch 11/100\n",
      "62/62 [==============================] - 3s 52ms/step - loss: 0.0012\n",
      "Epoch 12/100\n",
      "62/62 [==============================] - 3s 53ms/step - loss: 9.2448e-04\n",
      "Epoch 13/100\n",
      "62/62 [==============================] - 3s 52ms/step - loss: 0.0012\n",
      "Epoch 14/100\n",
      "62/62 [==============================] - 3s 52ms/step - loss: 0.0010\n",
      "Epoch 15/100\n",
      "62/62 [==============================] - 3s 55ms/step - loss: 0.0010\n",
      "Epoch 16/100\n",
      "62/62 [==============================] - 3s 53ms/step - loss: 0.0013\n",
      "Epoch 17/100\n",
      "62/62 [==============================] - 3s 53ms/step - loss: 8.8653e-04\n",
      "Epoch 18/100\n",
      "62/62 [==============================] - 3s 53ms/step - loss: 8.0719e-04\n",
      "Epoch 19/100\n",
      "62/62 [==============================] - 3s 53ms/step - loss: 7.8705e-04\n",
      "Epoch 20/100\n",
      "62/62 [==============================] - 3s 54ms/step - loss: 8.2111e-04\n",
      "Epoch 21/100\n",
      "62/62 [==============================] - 3s 52ms/step - loss: 8.5368e-04\n",
      "Epoch 22/100\n",
      "62/62 [==============================] - 3s 52ms/step - loss: 8.3292e-04\n",
      "Epoch 23/100\n",
      "62/62 [==============================] - 3s 52ms/step - loss: 7.0522e-04\n",
      "Epoch 24/100\n",
      "62/62 [==============================] - 3s 52ms/step - loss: 6.8371e-04\n",
      "Epoch 25/100\n",
      "62/62 [==============================] - 3s 52ms/step - loss: 6.6623e-04\n",
      "Epoch 26/100\n",
      "62/62 [==============================] - 3s 52ms/step - loss: 6.4486e-04\n",
      "Epoch 27/100\n",
      "62/62 [==============================] - 3s 52ms/step - loss: 6.3906e-04\n",
      "Epoch 28/100\n",
      "62/62 [==============================] - 3s 52ms/step - loss: 6.1212e-04\n",
      "Epoch 29/100\n",
      "62/62 [==============================] - 3s 52ms/step - loss: 6.1361e-04\n",
      "Epoch 30/100\n",
      "62/62 [==============================] - 3s 52ms/step - loss: 6.0390e-04\n",
      "Epoch 31/100\n",
      "62/62 [==============================] - 3s 53ms/step - loss: 5.8410e-04\n",
      "Epoch 32/100\n",
      "62/62 [==============================] - 3s 53ms/step - loss: 5.1929e-04\n",
      "Epoch 33/100\n",
      "62/62 [==============================] - 3s 53ms/step - loss: 4.9437e-04\n",
      "Epoch 34/100\n",
      "62/62 [==============================] - 3s 51ms/step - loss: 4.8356e-04\n",
      "Epoch 35/100\n",
      "62/62 [==============================] - 3s 53ms/step - loss: 4.7413e-04\n",
      "Epoch 36/100\n",
      "62/62 [==============================] - 3s 51ms/step - loss: 4.7876e-04\n",
      "Epoch 37/100\n",
      "62/62 [==============================] - 3s 53ms/step - loss: 4.5745e-04\n",
      "Epoch 38/100\n",
      "62/62 [==============================] - 3s 52ms/step - loss: 4.5463e-04\n",
      "Epoch 39/100\n",
      "62/62 [==============================] - 3s 53ms/step - loss: 4.9870e-04\n",
      "Epoch 40/100\n",
      "62/62 [==============================] - 3s 52ms/step - loss: 4.9777e-04\n",
      "Epoch 41/100\n",
      "62/62 [==============================] - 3s 52ms/step - loss: 4.3294e-04\n",
      "Epoch 42/100\n",
      "62/62 [==============================] - 3s 52ms/step - loss: 4.8485e-04\n",
      "Epoch 43/100\n",
      "62/62 [==============================] - 3s 53ms/step - loss: 4.4224e-04\n",
      "Epoch 44/100\n",
      "62/62 [==============================] - 3s 54ms/step - loss: 4.4877e-04\n",
      "Epoch 45/100\n",
      "62/62 [==============================] - 3s 54ms/step - loss: 4.3591e-04\n",
      "Epoch 46/100\n",
      "62/62 [==============================] - 3s 51ms/step - loss: 3.9042e-04\n",
      "Epoch 47/100\n",
      "62/62 [==============================] - 3s 52ms/step - loss: 4.1459e-04\n",
      "Epoch 48/100\n",
      "62/62 [==============================] - 3s 52ms/step - loss: 3.6097e-04\n",
      "Epoch 49/100\n",
      "62/62 [==============================] - 3s 54ms/step - loss: 4.0458e-04\n",
      "Epoch 50/100\n",
      "62/62 [==============================] - 3s 53ms/step - loss: 3.9029e-04\n",
      "Epoch 51/100\n",
      "62/62 [==============================] - 3s 52ms/step - loss: 4.6248e-04\n",
      "Epoch 52/100\n",
      "62/62 [==============================] - 3s 53ms/step - loss: 4.0215e-04\n",
      "Epoch 53/100\n",
      "62/62 [==============================] - 3s 53ms/step - loss: 3.6775e-04\n",
      "Epoch 54/100\n",
      "62/62 [==============================] - 3s 53ms/step - loss: 3.8044e-04\n",
      "Epoch 55/100\n",
      "62/62 [==============================] - 3s 53ms/step - loss: 3.6625e-04\n",
      "Epoch 56/100\n",
      "62/62 [==============================] - 3s 53ms/step - loss: 3.5063e-04\n",
      "Epoch 57/100\n",
      "62/62 [==============================] - 3s 53ms/step - loss: 4.1112e-04\n",
      "Epoch 58/100\n",
      "62/62 [==============================] - 3s 53ms/step - loss: 4.1760e-04\n",
      "Epoch 59/100\n",
      "62/62 [==============================] - 3s 52ms/step - loss: 3.6166e-04\n",
      "Epoch 60/100\n",
      "62/62 [==============================] - 3s 53ms/step - loss: 3.2273e-04\n",
      "Epoch 61/100\n",
      "62/62 [==============================] - 3s 53ms/step - loss: 4.6428e-04\n",
      "Epoch 62/100\n",
      "62/62 [==============================] - 3s 54ms/step - loss: 3.9257e-04\n",
      "Epoch 63/100\n",
      "62/62 [==============================] - 3s 54ms/step - loss: 3.3901e-04\n",
      "Epoch 64/100\n",
      "62/62 [==============================] - 3s 54ms/step - loss: 3.4640e-04\n",
      "Epoch 65/100\n",
      "62/62 [==============================] - 3s 54ms/step - loss: 3.3864e-04\n",
      "Epoch 66/100\n",
      "62/62 [==============================] - 3s 54ms/step - loss: 3.8558e-04\n",
      "Epoch 67/100\n",
      "62/62 [==============================] - 4s 58ms/step - loss: 3.1684e-04\n",
      "Epoch 68/100\n",
      "62/62 [==============================] - 3s 55ms/step - loss: 3.1057e-04\n",
      "Epoch 69/100\n",
      "62/62 [==============================] - 3s 54ms/step - loss: 3.1592e-04\n",
      "Epoch 70/100\n",
      "62/62 [==============================] - 3s 54ms/step - loss: 2.8340e-04\n",
      "Epoch 71/100\n",
      "62/62 [==============================] - 4s 57ms/step - loss: 3.2402e-04\n",
      "Epoch 72/100\n",
      "62/62 [==============================] - 3s 54ms/step - loss: 3.3440e-04\n",
      "Epoch 73/100\n",
      "62/62 [==============================] - 3s 54ms/step - loss: 3.9697e-04\n",
      "Epoch 74/100\n",
      "62/62 [==============================] - 3s 54ms/step - loss: 2.9929e-04\n",
      "Epoch 75/100\n",
      "62/62 [==============================] - 3s 54ms/step - loss: 2.8546e-04\n",
      "Epoch 76/100\n",
      "62/62 [==============================] - 3s 54ms/step - loss: 2.9229e-04\n",
      "Epoch 77/100\n",
      "62/62 [==============================] - 3s 54ms/step - loss: 2.7187e-04\n",
      "Epoch 78/100\n",
      "62/62 [==============================] - 3s 54ms/step - loss: 3.0146e-04\n",
      "Epoch 79/100\n",
      "62/62 [==============================] - 3s 53ms/step - loss: 2.6391e-04\n",
      "Epoch 80/100\n",
      "62/62 [==============================] - 3s 54ms/step - loss: 3.1505e-04\n",
      "Epoch 81/100\n",
      "62/62 [==============================] - 3s 54ms/step - loss: 3.1946e-04\n",
      "Epoch 82/100\n",
      "62/62 [==============================] - 3s 54ms/step - loss: 3.1087e-04\n",
      "Epoch 83/100\n",
      "62/62 [==============================] - 3s 55ms/step - loss: 3.2952e-04\n",
      "Epoch 84/100\n",
      "62/62 [==============================] - 3s 55ms/step - loss: 3.2896e-04\n",
      "Epoch 85/100\n",
      "62/62 [==============================] - 3s 54ms/step - loss: 2.7104e-04\n",
      "Epoch 86/100\n",
      "62/62 [==============================] - 3s 54ms/step - loss: 2.8943e-04\n",
      "Epoch 87/100\n",
      "62/62 [==============================] - 3s 54ms/step - loss: 3.4890e-04\n",
      "Epoch 88/100\n",
      "62/62 [==============================] - 3s 54ms/step - loss: 2.8290e-04\n",
      "Epoch 89/100\n",
      "62/62 [==============================] - 3s 54ms/step - loss: 3.0402e-04\n",
      "Epoch 90/100\n",
      "62/62 [==============================] - 3s 54ms/step - loss: 2.9724e-04\n",
      "Epoch 91/100\n",
      "62/62 [==============================] - 3s 54ms/step - loss: 2.6773e-04\n",
      "Epoch 92/100\n",
      "62/62 [==============================] - 3s 54ms/step - loss: 2.8032e-04\n",
      "Epoch 93/100\n",
      "62/62 [==============================] - 3s 55ms/step - loss: 2.7229e-04\n",
      "Epoch 94/100\n",
      "62/62 [==============================] - 3s 54ms/step - loss: 3.4332e-04\n",
      "Epoch 95/100\n",
      "62/62 [==============================] - 3s 54ms/step - loss: 3.0060e-04\n",
      "Epoch 96/100\n",
      "62/62 [==============================] - 3s 54ms/step - loss: 2.7984e-04\n",
      "Epoch 97/100\n"
     ]
    },
    {
     "name": "stdout",
     "output_type": "stream",
     "text": [
      "62/62 [==============================] - 3s 53ms/step - loss: 3.0646e-04\n",
      "Epoch 98/100\n",
      "62/62 [==============================] - 3s 53ms/step - loss: 3.2230e-04\n",
      "Epoch 99/100\n",
      "62/62 [==============================] - 3s 54ms/step - loss: 2.7058e-04\n",
      "Epoch 100/100\n",
      "62/62 [==============================] - 3s 53ms/step - loss: 2.7967e-04\n"
     ]
    },
    {
     "data": {
      "text/plain": [
       "<keras.callbacks.History at 0x17a00ab50>"
      ]
     },
     "execution_count": 9,
     "metadata": {},
     "output_type": "execute_result"
    }
   ],
   "source": [
    "regressor = Sequential()\n",
    "regressor.add(LSTM(units = 50, return_sequences = True, input_shape = (x_train.shape[1], 1)))\n",
    "regressor.add(Dropout(0.2))\n",
    "\n",
    "regressor.add(LSTM(units = 50, return_sequences = True))\n",
    "regressor.add(Dropout(0.2))\n",
    "\n",
    "regressor.add(LSTM(units = 50, return_sequences = True))\n",
    "regressor.add(Dropout(0.2))\n",
    "\n",
    "regressor.add(LSTM(units = 50))\n",
    "regressor.add(Dropout(0.2))\n",
    "\n",
    "regressor.add(Dense(units = 1))\n",
    "\n",
    "regressor.compile(optimizer = 'adam', loss = 'mean_squared_error')\n",
    "\n",
    "regressor.fit(x_train, y_train, epochs = 100, batch_size = 32)"
   ]
  },
  {
   "cell_type": "markdown",
   "id": "9dd45b51",
   "metadata": {},
   "source": [
    "# Comparing the Prediction using test"
   ]
  },
  {
   "cell_type": "code",
   "execution_count": 10,
   "id": "94213f44",
   "metadata": {},
   "outputs": [],
   "source": [
    "data_test = pd.read_csv('Sample_Stock_test.csv')\n",
    "real_stock_price = data_test.iloc[:, 1:2].values"
   ]
  },
  {
   "cell_type": "markdown",
   "id": "c2da5642",
   "metadata": {},
   "source": [
    "# Test Data Pre Processing"
   ]
  },
  {
   "cell_type": "code",
   "execution_count": 11,
   "id": "33ef012d",
   "metadata": {},
   "outputs": [],
   "source": [
    "data_total = pd.concat((data['Open'], data_test['Open']), axis = 0)\n",
    "inputs = data_total[len(data_total) - len(data_test) - 60:].values\n",
    "inputs = inputs.reshape(-1, 1)\n",
    "inputs = sc.transform(inputs)"
   ]
  },
  {
   "cell_type": "code",
   "execution_count": 12,
   "id": "a4a4b197",
   "metadata": {},
   "outputs": [],
   "source": [
    "x_test = []\n",
    "for i in range(60, 76):\n",
    "    x_test.append(inputs[i - 60:i, 0])\n",
    "x_test = np.array(x_test)\n",
    "x_test = np.reshape(x_test, (x_test.shape[0], x_test.shape[1], 1))"
   ]
  },
  {
   "cell_type": "markdown",
   "id": "857bc535",
   "metadata": {},
   "source": [
    "# Test Data Prediction"
   ]
  },
  {
   "cell_type": "code",
   "execution_count": 13,
   "id": "4d054c2b",
   "metadata": {},
   "outputs": [
    {
     "name": "stderr",
     "output_type": "stream",
     "text": [
      "2022-04-29 08:05:36.366898: I tensorflow/core/grappler/optimizers/custom_graph_optimizer_registry.cc:113] Plugin optimizer for device_type GPU is enabled.\n",
      "2022-04-29 08:05:36.486439: I tensorflow/core/grappler/optimizers/custom_graph_optimizer_registry.cc:113] Plugin optimizer for device_type GPU is enabled.\n",
      "2022-04-29 08:05:36.561753: I tensorflow/core/grappler/optimizers/custom_graph_optimizer_registry.cc:113] Plugin optimizer for device_type GPU is enabled.\n",
      "2022-04-29 08:05:36.647409: I tensorflow/core/grappler/optimizers/custom_graph_optimizer_registry.cc:113] Plugin optimizer for device_type GPU is enabled.\n",
      "2022-04-29 08:05:36.723326: I tensorflow/core/grappler/optimizers/custom_graph_optimizer_registry.cc:113] Plugin optimizer for device_type GPU is enabled.\n"
     ]
    }
   ],
   "source": [
    "predicted_stock_price = regressor.predict(x_test)\n",
    "predicted_stock_price = sc.inverse_transform(predicted_stock_price)"
   ]
  },
  {
   "cell_type": "code",
   "execution_count": null,
   "id": "de39da00",
   "metadata": {},
   "outputs": [],
   "source": []
  },
  {
   "cell_type": "code",
   "execution_count": 14,
   "id": "879c2206",
   "metadata": {},
   "outputs": [
    {
     "data": {
      "image/png": "[encoded data removed]",
      "text/plain": [
       "<Figure size 432x288 with 1 Axes>"
      ]
     },
     "metadata": {
      "needs_background": "light"
     },
     "output_type": "display_data"
    }
   ],
   "source": [
    "plt.plot(real_stock_price, color = 'black', label = 'Tata Stock Price')\n",
    "plt.plot(predicted_stock_price, color = 'green', label = 'Predicted Tata Stock Price')\n",
    "plt.title('Tata Stock Price Prediction')\n",
    "plt.xlabel('Time')\n",
    "plt.ylabel = ('Tata Stock Price')\n",
    "plt.legend()\n",
    "plt.show()"
   ]
  },
  {
   "cell_type": "code",
   "execution_count": null,
   "id": "beff13ca",
   "metadata": {},
   "outputs": [],
   "source": []
  }
 ],
 "metadata": {
  "kernelspec": {
   "display_name": "Python 3 (ipykernel)",
   "language": "python",
   "name": "python3"
  },
  "language_info": {
   "codemirror_mode": {
    "name": "ipython",
    "version": 3
   },
   "file_extension": ".py",
   "mimetype": "text/x-python",
   "name": "python",
   "nbconvert_exporter": "python",
   "pygments_lexer": "ipython3",
   "version": "3.8.11"
  }
 },
 "nbformat": 4,
 "nbformat_minor": 5
}
